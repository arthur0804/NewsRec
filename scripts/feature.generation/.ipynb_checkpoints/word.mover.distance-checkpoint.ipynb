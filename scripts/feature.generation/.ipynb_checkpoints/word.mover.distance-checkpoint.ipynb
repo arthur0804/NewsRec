{
 "cells": [
  {
   "cell_type": "code",
   "execution_count": 1,
   "metadata": {},
   "outputs": [],
   "source": [
    "# This script generates WMD (word mover's distance)"
   ]
  },
  {
   "cell_type": "code",
   "execution_count": 68,
   "metadata": {},
   "outputs": [],
   "source": [
    "from nltk.corpus import stopwords\n",
    "import re\n",
    "import nltk\n",
    "import gensim.downloader as api\n",
    "import pandas as pd\n",
    "import xml.etree.ElementTree as ET\n",
    "import json"
   ]
  },
  {
   "cell_type": "code",
   "execution_count": 90,
   "metadata": {},
   "outputs": [],
   "source": [
    "def preprocess(text):\n",
    "    \n",
    "    if text is None:\n",
    "        text = ''\n",
    "    \n",
    "    raw_text = text.lower()\n",
    "    raw_text = re.sub(r\"[^\\w\\s]\", \"\", raw_text)\n",
    "    tokens = nltk.word_tokenize(raw_text)\n",
    "    stop = stopwords.words(\"english\")\n",
    "    cleaned_tokens = [token for token in tokens if token not in stop]\n",
    "    \n",
    "    return cleaned_tokens\n",
    "\n",
    "def calculate(sentence1, sentence2):\n",
    "    return model.wmdistance(sentence1, sentence2)\n",
    "\n",
    "def find_news_title(newsid):\n",
    "    file_path = \"../../news_json/\" + newsid + \".json\"\n",
    "    try:\n",
    "        with open (file_path, 'r') as f:\n",
    "            news = json.load(f)\n",
    "            return news['title']\n",
    "    except Exception:\n",
    "        return \"\""
   ]
  },
  {
   "cell_type": "code",
   "execution_count": 28,
   "metadata": {},
   "outputs": [],
   "source": [
    "# load word embeddings\n",
    "model = api.load('word2vec-google-news-300')"
   ]
  },
  {
   "cell_type": "code",
   "execution_count": 91,
   "metadata": {},
   "outputs": [],
   "source": [
    "# load <topicid, newsid> pair from the xml file\n",
    "tree = ET.parse('../../query_topics/2018BL_topic.xml')\n",
    "root = tree.getroot()\n",
    "\n",
    "# topic to news\n",
    "t2n = {}\n",
    "\n",
    "for i in root:\n",
    "    topicid = i[0].text[-3:]\n",
    "    newsid = i[1].text\n",
    "    t2n[topicid] = newsid"
   ]
  },
  {
   "cell_type": "code",
   "execution_count": 105,
   "metadata": {},
   "outputs": [],
   "source": [
    "# load qrels\n",
    "qrel = pd.read_csv(\"../../query_topics/2018BL_answer.txt\", sep = \" \", header = None)\n",
    "qrel.columns = [\"topicid\", \"q0\", \"newsid\", \"rel\"]"
   ]
  },
  {
   "cell_type": "code",
   "execution_count": 109,
   "metadata": {},
   "outputs": [],
   "source": [
    "# save results\n",
    "df_wmd = pd.DataFrame(columns=[\"topicid\", \"newsid\", \"wmd\"])"
   ]
  },
  {
   "cell_type": "code",
   "execution_count": 110,
   "metadata": {
    "scrolled": true
   },
   "outputs": [
    {
     "name": "stdout",
     "output_type": "stream",
     "text": [
      "0\n",
      "1000\n",
      "2000\n",
      "3000\n",
      "4000\n",
      "5000\n",
      "6000\n",
      "7000\n",
      "8000\n"
     ]
    }
   ],
   "source": [
    "for index, rows in qrel.iterrows():\n",
    "    \n",
    "    topicid = str(qrel.loc[index, \"topicid\"])\n",
    "    newsid = qrel.loc[index, \"newsid\"]\n",
    "    \n",
    "    topic_title = find_news_title(t2n[topicid])\n",
    "    candidate_title = find_news_title(newsid)\n",
    "    \n",
    "    wmd = calculate(preprocess(topic_title), preprocess(candidate_title))\n",
    "    \n",
    "    # convert infinite because of empty title to 0\n",
    "    if wmd == float(\"inf\"):\n",
    "        wmd = 0\n",
    "    \n",
    "    df_wmd = df_wmd.append({\"topicid\": topicid, \"newsid\": newsid, \"wmd\": wmd}, ignore_index=True)\n",
    "    \n",
    "    if index%1000==0:\n",
    "        print(index)    "
   ]
  },
  {
   "cell_type": "code",
   "execution_count": null,
   "metadata": {},
   "outputs": [],
   "source": [
    "df_wmd.to_csv(\"../../features/wmd.csv\", sep = \",\", index=False)"
   ]
  },
  {
   "cell_type": "code",
   "execution_count": null,
   "metadata": {},
   "outputs": [],
   "source": []
  },
  {
   "cell_type": "code",
   "execution_count": null,
   "metadata": {},
   "outputs": [],
   "source": []
  },
  {
   "cell_type": "code",
   "execution_count": null,
   "metadata": {},
   "outputs": [],
   "source": []
  },
  {
   "cell_type": "code",
   "execution_count": null,
   "metadata": {},
   "outputs": [],
   "source": []
  },
  {
   "cell_type": "code",
   "execution_count": null,
   "metadata": {},
   "outputs": [],
   "source": []
  },
  {
   "cell_type": "code",
   "execution_count": null,
   "metadata": {},
   "outputs": [],
   "source": []
  }
 ],
 "metadata": {
  "kernelspec": {
   "display_name": "Python 3",
   "language": "python",
   "name": "python3"
  },
  "language_info": {
   "codemirror_mode": {
    "name": "ipython",
    "version": 3
   },
   "file_extension": ".py",
   "mimetype": "text/x-python",
   "name": "python",
   "nbconvert_exporter": "python",
   "pygments_lexer": "ipython3",
   "version": "3.7.4"
  }
 },
 "nbformat": 4,
 "nbformat_minor": 4
}
