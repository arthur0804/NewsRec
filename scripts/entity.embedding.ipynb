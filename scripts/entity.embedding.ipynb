{
 "cells": [
  {
   "cell_type": "code",
   "execution_count": 1,
   "metadata": {},
   "outputs": [],
   "source": [
    "import numpy as np"
   ]
  },
  {
   "cell_type": "code",
   "execution_count": 2,
   "metadata": {},
   "outputs": [],
   "source": [
    "def load_embedding(filepath):\n",
    "    \n",
    "    '''\n",
    "    Load word/entity embeddings\n",
    "    Args: file path\n",
    "    Returns: word2index, embedding matrix\n",
    "    '''\n",
    "    \n",
    "    with open(filepath) as f:\n",
    "        # first line implies the dimension\n",
    "        n_word, m_dim = [int(i) for i in f.readline().strip().split()]\n",
    "        # word vector matrix\n",
    "        mat = np.zeros((n_word, m_dim))\n",
    "        # word2index\n",
    "        w2i = {}\n",
    "        i_row = 0\n",
    "        \n",
    "        for line in f:\n",
    "            ss = line.strip().split()\n",
    "            # some words have spaces (different length after splitting)\n",
    "            # use backward matching (match vectors first, then match words)\n",
    "            \n",
    "            vector = ss[-300:]\n",
    "            word_list = ss[:len(ss)-300]\n",
    "            word = \"_\".join(word_list)\n",
    "            \n",
    "            # <word, id> dictionary\n",
    "            w2i[word] = i_row\n",
    "            # word vector matrix\n",
    "            mat[i_row,:] = [float(i) for i in vector]\n",
    "            i_row += 1\n",
    "        \n",
    "        assert i_row == n_word\n",
    "        \n",
    "        # normalize each row by its L2-norm. \n",
    "        # This makes dot(v1,v2) and cos(v1,v2) equivalent for any v1, v2 (rows) in this matrix\n",
    "        for i in range(mat.shape[0]):\n",
    "            mat[i,:] /= np.linalg.norm(mat[i,:])\n",
    "        \n",
    "        # index2word\n",
    "        i2w = dict([(i, w) for w, i in w2i.items()])\n",
    "        \n",
    "        return w2i, i2w, mat"
   ]
  },
  {
   "cell_type": "code",
   "execution_count": 3,
   "metadata": {
    "scrolled": true
   },
   "outputs": [
    {
     "name": "stdout",
     "output_type": "stream",
     "text": [
      "CPU times: user 6min 26s, sys: 31.5 s, total: 6min 57s\n",
      "Wall time: 7min 27s\n"
     ]
    }
   ],
   "source": [
    "%time w2i, i2w, m = load_embedding(\"../entity_embedding/enwiki_20180420_300d.txt\")"
   ]
  },
  {
   "cell_type": "code",
   "execution_count": 33,
   "metadata": {},
   "outputs": [],
   "source": [
    "q1 = m[w2i[\"ENTITY/Donald_Trump\"], :]"
   ]
  },
  {
   "cell_type": "code",
   "execution_count": 34,
   "metadata": {},
   "outputs": [],
   "source": [
    "q2 = m[w2i[\"ENTITY/Hillary_Clinton\"], :]"
   ]
  },
  {
   "cell_type": "code",
   "execution_count": 35,
   "metadata": {},
   "outputs": [],
   "source": [
    "q3 = m[w2i[\"ENTITY/Kobe_Bryant\"], :]"
   ]
  },
  {
   "cell_type": "code",
   "execution_count": null,
   "metadata": {},
   "outputs": [],
   "source": []
  },
  {
   "cell_type": "code",
   "execution_count": null,
   "metadata": {},
   "outputs": [],
   "source": []
  },
  {
   "cell_type": "code",
   "execution_count": null,
   "metadata": {},
   "outputs": [],
   "source": []
  },
  {
   "cell_type": "code",
   "execution_count": null,
   "metadata": {},
   "outputs": [],
   "source": []
  },
  {
   "cell_type": "code",
   "execution_count": null,
   "metadata": {},
   "outputs": [],
   "source": []
  },
  {
   "cell_type": "code",
   "execution_count": null,
   "metadata": {},
   "outputs": [],
   "source": []
  },
  {
   "cell_type": "code",
   "execution_count": 1,
   "metadata": {},
   "outputs": [],
   "source": [
    "import gensim.downloader as api\n",
    "model = api.load('word2vec-google-news-300')"
   ]
  },
  {
   "cell_type": "code",
   "execution_count": 3,
   "metadata": {},
   "outputs": [],
   "source": [
    "# Normalizes the vectors in the word2vec class.\n",
    "model.init_sims(replace=True) "
   ]
  },
  {
   "cell_type": "code",
   "execution_count": 6,
   "metadata": {},
   "outputs": [
    {
     "data": {
      "text/plain": [
       "300"
      ]
     },
     "execution_count": 6,
     "metadata": {},
     "output_type": "execute_result"
    }
   ],
   "source": [
    "model['king'].size"
   ]
  },
  {
   "cell_type": "code",
   "execution_count": 7,
   "metadata": {},
   "outputs": [
    {
     "data": {
      "text/plain": [
       "array([ 4.34063822e-02,  1.02627501e-02,  2.96526169e-03,  4.81171533e-02,\n",
       "       -8.83269403e-03, -1.24498932e-02,  3.85273732e-02, -6.83061704e-02,\n",
       "        1.76653881e-02,  1.25171900e-01, -8.34479332e-02, -1.04309916e-01,\n",
       "       -6.12400137e-02, -8.58033169e-03, -5.78751788e-02, -5.85481450e-02,\n",
       "        1.19451676e-02,  1.79808424e-03,  1.59829706e-02,  4.44158353e-02,\n",
       "        4.71077040e-02,  3.88638563e-02,  2.05255002e-02,  4.71077040e-02,\n",
       "        3.48260514e-02, -6.09035306e-02, -8.68127644e-02,  2.06096210e-02,\n",
       "        1.17769256e-01, -1.07254144e-02,  3.60037461e-02,  2.12825872e-02,\n",
       "        4.29016575e-02,  1.37958273e-01, -1.11039586e-01,  2.89375894e-02,\n",
       "        1.34593435e-02,  2.01890152e-03,  2.42268182e-02,  5.95575981e-02,\n",
       "        4.77806702e-02, -7.97466114e-02,  9.75802392e-02,  4.91266064e-02,\n",
       "        1.17769256e-01, -8.24384764e-03, -3.78544033e-02,  1.14404419e-02,\n",
       "       -1.88430808e-02,  5.27858641e-03, -5.58562763e-02,  5.45103438e-02,\n",
       "       -8.95046368e-02,  6.93997415e-03, -5.61927594e-02,  4.67922509e-04,\n",
       "       -4.97995727e-02, -1.96001697e-02,  1.48052778e-02, -8.49621091e-03,\n",
       "        6.39318824e-02,  1.54109493e-01,  3.30174528e-03,  4.54252847e-02,\n",
       "        3.39848436e-02, -6.39318824e-02, -3.44895683e-02, -4.60982509e-02,\n",
       "       -4.30698991e-02,  9.75802392e-02,  4.23969328e-02,  1.83383562e-02,\n",
       "       -6.12400137e-02,  2.96105556e-02, -7.52882054e-03,  7.06615532e-03,\n",
       "       -4.81171533e-02,  8.66445247e-03,  4.77806702e-02, -3.63402292e-02,\n",
       "        4.77806702e-02,  3.06200068e-02, -2.59092376e-02, -7.36057851e-03,\n",
       "        5.95575981e-02,  1.59829706e-02, -9.15235355e-02,  3.07041290e-03,\n",
       "        5.14819883e-02,  1.30387396e-02,  8.21020007e-02, -4.29016575e-02,\n",
       "       -7.50358403e-02, -6.25859499e-02,  1.02627501e-02,  1.96842905e-02,\n",
       "       -9.96832643e-03,  4.29016585e-03,  3.33118774e-02, -7.97466114e-02,\n",
       "        2.00207736e-02,  2.30491254e-02,  2.43950598e-02, -1.06328815e-01,\n",
       "       -7.40263909e-02,  5.01360558e-02, -1.47379816e-01, -3.23865470e-03,\n",
       "        5.31644076e-02, -2.64139622e-02,  9.95991454e-02,  9.55613405e-02,\n",
       "       -1.67584600e-04, -4.71077040e-02,  1.11712553e-01, -8.47938657e-02,\n",
       "       -1.04625372e-03, -7.30169415e-02,  4.30698991e-02,  9.28694755e-02,\n",
       "        7.03250691e-02,  2.84328647e-02, -6.93156198e-02, -5.51833101e-02,\n",
       "       -1.30387396e-02, -4.13874835e-02,  3.97050641e-02, -1.41323106e-02,\n",
       "       -1.36275860e-02, -3.09564900e-02,  2.18714331e-03,  6.99885860e-02,\n",
       "        6.42683655e-02,  9.42154080e-02,  2.17031911e-02,  4.87901196e-02,\n",
       "       -3.38166021e-02,  4.77806702e-02,  6.29224330e-02,  5.98940812e-02,\n",
       "        5.98940812e-02, -8.17655101e-02,  6.15764968e-02,  2.18714345e-02,\n",
       "        8.14290270e-02, -7.20074922e-02,  3.01152822e-02, -5.72022125e-02,\n",
       "       -2.72551719e-02,  8.37844163e-02, -3.06200068e-02,  4.37428690e-02,\n",
       "       -7.46993572e-02, -5.98940812e-02, -1.23825960e-01, -2.84328647e-02,\n",
       "       -2.23761592e-02,  1.74971465e-02,  4.67712209e-02, -2.57409941e-02,\n",
       "       -5.65292425e-02,  3.97471245e-03,  1.53436527e-01, -7.43628740e-02,\n",
       "       -3.83591317e-02, -6.62872717e-02,  5.88846281e-02, -4.30698991e-02,\n",
       "        9.14814766e-04,  6.62872717e-02, -6.02305643e-02,  4.81171533e-02,\n",
       "        1.00945078e-01,  3.90320979e-02,  2.05255002e-02, -2.20396761e-02,\n",
       "        3.43213268e-02, -9.37948003e-03,  6.77173259e-03,  1.47211570e-02,\n",
       "       -8.47938657e-02,  2.20396761e-02, -7.77277127e-02, -5.82116619e-02,\n",
       "        9.98935662e-04,  2.82646213e-02,  1.17769256e-01,  1.48893995e-02,\n",
       "        4.57617678e-02,  4.91266064e-02,  2.62457207e-02,  2.06096210e-02,\n",
       "       -4.10510004e-02,  9.46360116e-04, -2.17031911e-02, -9.37948003e-03,\n",
       "       -1.66138774e-03, -2.82646213e-02, -8.58033169e-03, -1.37958273e-01,\n",
       "       -3.68449539e-02,  1.46370362e-02,  2.67504454e-02, -4.02097888e-02,\n",
       "        2.54045110e-02, -3.17976996e-02,  3.71814370e-02,  5.45103438e-02,\n",
       "        1.46370362e-02,  4.37428690e-02,  1.24498932e-02,  9.21965018e-02,\n",
       "       -3.48260514e-02, -1.04309916e-01, -1.98525321e-02,  1.74130257e-02,\n",
       "        1.81385694e-04, -7.13345185e-02, -4.77806702e-02, -3.09144310e-03,\n",
       "       -9.58978292e-03, -4.87901196e-02,  7.13345185e-02, -5.45103438e-02,\n",
       "        4.40793522e-02,  5.14819883e-02, -7.73912249e-03, -2.91058309e-02,\n",
       "        4.22286913e-02,  7.43628740e-02, -7.36899078e-02, -1.07674748e-01,\n",
       "       -1.28536731e-01,  1.40902505e-03,  3.70131955e-02,  3.68449539e-02,\n",
       "        2.52362695e-02,  3.09144310e-03, -1.33752227e-02, -4.47523184e-02,\n",
       "        5.14819883e-02, -7.40263909e-02, -6.33535499e-04,  3.41530852e-02,\n",
       "        5.41738607e-02, -3.93685810e-02, -7.06615523e-02,  3.41530852e-02,\n",
       "        1.27190799e-01, -6.79696873e-02,  1.21975299e-02,  3.76861617e-02,\n",
       "        4.54252847e-02,  5.75386956e-02,  8.10925439e-02,  3.61719877e-02,\n",
       "       -1.70933664e-01, -5.65292425e-02, -5.38373739e-02, -1.80018730e-02,\n",
       "        3.54990177e-02,  8.37844163e-02, -6.49413317e-02,  1.74971465e-02,\n",
       "       -3.23024243e-02, -2.30491254e-02,  7.82324374e-03,  2.62457207e-02,\n",
       "        9.95991454e-02,  1.07001781e-01, -1.85065977e-02,  7.87371621e-02,\n",
       "        8.66445247e-03,  2.33856104e-02, -4.17239666e-02, -7.43628740e-02,\n",
       "       -9.42154080e-02, -1.05992332e-02, -1.16423324e-01,  5.28279245e-02,\n",
       "        8.04195777e-02, -7.16710091e-02,  1.28536731e-01,  2.82646213e-02,\n",
       "        8.68127644e-02, -2.62457207e-02, -1.60670914e-02, -7.69706210e-03,\n",
       "        1.03048105e-02, -2.04413775e-02, -1.60881213e-03, -8.41208994e-02,\n",
       "       -7.23439753e-02, -9.89261791e-02, -1.56464875e-02, -6.12400137e-02,\n",
       "       -9.62343067e-02, -2.96105556e-02,  3.14612165e-02,  8.68127644e-02],\n",
       "      dtype=float32)"
      ]
     },
     "execution_count": 7,
     "metadata": {},
     "output_type": "execute_result"
    }
   ],
   "source": [
    "model['king']"
   ]
  },
  {
   "cell_type": "code",
   "execution_count": null,
   "metadata": {},
   "outputs": [],
   "source": []
  },
  {
   "cell_type": "code",
   "execution_count": null,
   "metadata": {},
   "outputs": [],
   "source": []
  },
  {
   "cell_type": "code",
   "execution_count": null,
   "metadata": {},
   "outputs": [],
   "source": []
  },
  {
   "cell_type": "code",
   "execution_count": null,
   "metadata": {},
   "outputs": [],
   "source": []
  },
  {
   "cell_type": "code",
   "execution_count": null,
   "metadata": {},
   "outputs": [],
   "source": []
  },
  {
   "cell_type": "code",
   "execution_count": null,
   "metadata": {},
   "outputs": [],
   "source": []
  },
  {
   "cell_type": "code",
   "execution_count": null,
   "metadata": {},
   "outputs": [],
   "source": []
  }
 ],
 "metadata": {
  "kernelspec": {
   "display_name": "Python 3",
   "language": "python",
   "name": "python3"
  },
  "language_info": {
   "codemirror_mode": {
    "name": "ipython",
    "version": 3
   },
   "file_extension": ".py",
   "mimetype": "text/x-python",
   "name": "python",
   "nbconvert_exporter": "python",
   "pygments_lexer": "ipython3",
   "version": "3.7.4"
  }
 },
 "nbformat": 4,
 "nbformat_minor": 4
}
