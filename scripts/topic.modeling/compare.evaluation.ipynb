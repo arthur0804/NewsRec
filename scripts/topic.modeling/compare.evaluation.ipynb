{
 "cells": [
  {
   "cell_type": "code",
   "execution_count": 1,
   "metadata": {},
   "outputs": [],
   "source": [
    "# This script compares the evaluation results of topic modeling."
   ]
  },
  {
   "cell_type": "code",
   "execution_count": 1,
   "metadata": {},
   "outputs": [],
   "source": [
    "import pandas as pd"
   ]
  },
  {
   "cell_type": "code",
   "execution_count": 2,
   "metadata": {},
   "outputs": [],
   "source": [
    "# load qrels\n",
    "qrel = pd.read_csv(\"../../query_topics/2018BL_answer.txt\", sep = \" \", header = None)\n",
    "qrel.columns = [\"topicid\", \"q0\", \"newsid\", \"rel\"]"
   ]
  },
  {
   "cell_type": "code",
   "execution_count": 3,
   "metadata": {},
   "outputs": [],
   "source": [
    "count_0 = qrel.loc[qrel.rel == 0].shape[0]\n",
    "count_2 = qrel.loc[qrel.rel == 2].shape[0]\n",
    "count_4 = qrel.loc[qrel.rel == 4].shape[0]\n",
    "count_8 = qrel.loc[qrel.rel == 8].shape[0]\n",
    "count_16 = qrel.loc[qrel.rel == 16].shape[0]"
   ]
  },
  {
   "cell_type": "code",
   "execution_count": 4,
   "metadata": {},
   "outputs": [],
   "source": [
    "# load distances of news from topic modeling\n",
    "distance = pd.read_excel(\"topic.modeling.results.xlsx\")\n",
    "distance.index = [16,8,4,2,0]"
   ]
  },
  {
   "cell_type": "code",
   "execution_count": 5,
   "metadata": {
    "scrolled": true
   },
   "outputs": [
    {
     "data": {
      "text/html": [
       "<div>\n",
       "<style scoped>\n",
       "    .dataframe tbody tr th:only-of-type {\n",
       "        vertical-align: middle;\n",
       "    }\n",
       "\n",
       "    .dataframe tbody tr th {\n",
       "        vertical-align: top;\n",
       "    }\n",
       "\n",
       "    .dataframe thead th {\n",
       "        text-align: right;\n",
       "    }\n",
       "</style>\n",
       "<table border=\"1\" class=\"dataframe\">\n",
       "  <thead>\n",
       "    <tr style=\"text-align: right;\">\n",
       "      <th></th>\n",
       "      <th>40</th>\n",
       "      <th>45</th>\n",
       "      <th>50</th>\n",
       "      <th>55</th>\n",
       "      <th>60</th>\n",
       "      <th>70</th>\n",
       "      <th>80</th>\n",
       "    </tr>\n",
       "  </thead>\n",
       "  <tbody>\n",
       "    <tr>\n",
       "      <th>16</th>\n",
       "      <td>40.665</td>\n",
       "      <td>41.303</td>\n",
       "      <td>48.047</td>\n",
       "      <td>45.628</td>\n",
       "      <td>43.457</td>\n",
       "      <td>40.893</td>\n",
       "      <td>47.779</td>\n",
       "    </tr>\n",
       "    <tr>\n",
       "      <th>8</th>\n",
       "      <td>64.453</td>\n",
       "      <td>70.939</td>\n",
       "      <td>80.528</td>\n",
       "      <td>78.380</td>\n",
       "      <td>74.873</td>\n",
       "      <td>73.779</td>\n",
       "      <td>77.458</td>\n",
       "    </tr>\n",
       "    <tr>\n",
       "      <th>4</th>\n",
       "      <td>260.605</td>\n",
       "      <td>290.999</td>\n",
       "      <td>284.258</td>\n",
       "      <td>308.045</td>\n",
       "      <td>287.677</td>\n",
       "      <td>317.930</td>\n",
       "      <td>285.102</td>\n",
       "    </tr>\n",
       "    <tr>\n",
       "      <th>2</th>\n",
       "      <td>612.559</td>\n",
       "      <td>593.319</td>\n",
       "      <td>605.195</td>\n",
       "      <td>692.845</td>\n",
       "      <td>641.744</td>\n",
       "      <td>700.378</td>\n",
       "      <td>616.586</td>\n",
       "    </tr>\n",
       "    <tr>\n",
       "      <th>0</th>\n",
       "      <td>3788.985</td>\n",
       "      <td>3933.440</td>\n",
       "      <td>4076.974</td>\n",
       "      <td>4228.092</td>\n",
       "      <td>4078.854</td>\n",
       "      <td>4134.357</td>\n",
       "      <td>4193.878</td>\n",
       "    </tr>\n",
       "  </tbody>\n",
       "</table>\n",
       "</div>"
      ],
      "text/plain": [
       "          40        45        50        55        60        70        80\n",
       "16    40.665    41.303    48.047    45.628    43.457    40.893    47.779\n",
       "8     64.453    70.939    80.528    78.380    74.873    73.779    77.458\n",
       "4    260.605   290.999   284.258   308.045   287.677   317.930   285.102\n",
       "2    612.559   593.319   605.195   692.845   641.744   700.378   616.586\n",
       "0   3788.985  3933.440  4076.974  4228.092  4078.854  4134.357  4193.878"
      ]
     },
     "execution_count": 5,
     "metadata": {},
     "output_type": "execute_result"
    }
   ],
   "source": [
    "distance"
   ]
  },
  {
   "cell_type": "code",
   "execution_count": 10,
   "metadata": {},
   "outputs": [
    {
     "name": "stdout",
     "output_type": "stream",
     "text": [
      "40\n",
      "-0.5270712773542822\n",
      "45\n",
      "-0.5039914174848974\n",
      "50\n",
      "-0.37266825060930475\n",
      "55\n",
      "-0.551874305239403\n",
      "60\n",
      "-0.5250746014085176\n",
      "70\n",
      "-0.6466067022296897\n",
      "80\n",
      "-0.44218988339008825\n"
     ]
    }
   ],
   "source": [
    "columns = distance.columns\n",
    "\n",
    "for i in columns:\n",
    "    \n",
    "    distance_topic = distance[i]\n",
    "    print(i)\n",
    "    \n",
    "    for j in [16,8,4,2,0]:\n",
    "        \n",
    "        avg_16 = distance_topic[16]/count_16\n",
    "        avg_8 = distance_topic[8]/count_8\n",
    "        avg_4 = distance_topic[4]/count_4\n",
    "        avg_2 = distance_topic[2]/count_2\n",
    "        avg_0 = distance_topic[0]/count_0\n",
    "        \n",
    "        # weighted sum\n",
    "        # we want to minimize the distance of news with rel score of 16 and 8 (16 has a larger weight)\n",
    "        # we want to maximize the distance of news with rel score of 2 and 0 (0 has a larger weight)a\n",
    "        \n",
    "    print(2*avg_16 + avg_8 - avg_2 - 2*avg_0)"
   ]
  },
  {
   "cell_type": "code",
   "execution_count": 2,
   "metadata": {},
   "outputs": [],
   "source": [
    "# minimum is n_topic = 70."
   ]
  }
 ],
 "metadata": {
  "kernelspec": {
   "display_name": "Python 3",
   "language": "python",
   "name": "python3"
  },
  "language_info": {
   "codemirror_mode": {
    "name": "ipython",
    "version": 3
   },
   "file_extension": ".py",
   "mimetype": "text/x-python",
   "name": "python",
   "nbconvert_exporter": "python",
   "pygments_lexer": "ipython3",
   "version": "3.7.4"
  }
 },
 "nbformat": 4,
 "nbformat_minor": 4
}
