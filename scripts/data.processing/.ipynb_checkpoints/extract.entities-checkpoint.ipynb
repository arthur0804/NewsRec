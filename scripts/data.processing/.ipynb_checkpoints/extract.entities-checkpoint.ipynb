{
 "cells": [
  {
   "cell_type": "code",
   "execution_count": 1,
   "metadata": {},
   "outputs": [],
   "source": [
    "# This script extracts entities from news contents and categorizes them"
   ]
  },
  {
   "cell_type": "code",
   "execution_count": 5,
   "metadata": {},
   "outputs": [],
   "source": [
    "import json\n",
    "import os\n",
    "import spacy\n",
    "nlp = spacy.load(\"en_core_web_sm\")"
   ]
  },
  {
   "cell_type": "code",
   "execution_count": 6,
   "metadata": {},
   "outputs": [],
   "source": [
    "def extract_entities():\n",
    "    \n",
    "    count = 0\n",
    "\n",
    "    for file in os.listdir(\"../news_json/\"):\n",
    "        # loop over all the news\n",
    "\n",
    "        with open(\"../news_json/\" + file, 'r') as f1:\n",
    "            news = json.load(f1)\n",
    "            news_content = news[\"content\"]\n",
    "            news_id = news[\"id\"]\n",
    "\n",
    "            # NER\n",
    "            doc = nlp(news_content)\n",
    "\n",
    "            # save to a new file\n",
    "            with open(\"../news_entities/\" + news_id + \".txt\", 'w') as f2:\n",
    "                for ent in doc.ents:\n",
    "                    record = \"{}\\t{}\\n\".format(ent.text, ent.label_)\n",
    "                    f2.write(record)\n",
    "\n",
    "            f2.close()\n",
    "        f1.close()\n",
    "        \n",
    "        count += 1\n",
    "\n",
    "    # checkpoint\n",
    "    if count % 1000 == 0:\n",
    "        print(count)\n",
    "    \n",
    "    print(\"{} files have been processed\".format(count))"
   ]
  },
  {
   "cell_type": "code",
   "execution_count": 7,
   "metadata": {},
   "outputs": [
    {
     "name": "stdout",
     "output_type": "stream",
     "text": [
      "0\n",
      "0 files have been processed\n"
     ]
    }
   ],
   "source": [
    "if __name__ == \"__main__\":\n",
    "    extract_entities()"
   ]
  },
  {
   "cell_type": "code",
   "execution_count": 1,
   "metadata": {},
   "outputs": [],
   "source": [
    "# It takes about 10 hours on my laptop to finish so you can keep it running at the backend overnight."
   ]
  }
 ],
 "metadata": {
  "kernelspec": {
   "display_name": "Python 3",
   "language": "python",
   "name": "python3"
  },
  "language_info": {
   "codemirror_mode": {
    "name": "ipython",
    "version": 3
   },
   "file_extension": ".py",
   "mimetype": "text/x-python",
   "name": "python",
   "nbconvert_exporter": "python",
   "pygments_lexer": "ipython3",
   "version": "3.7.4"
  }
 },
 "nbformat": 4,
 "nbformat_minor": 4
}
