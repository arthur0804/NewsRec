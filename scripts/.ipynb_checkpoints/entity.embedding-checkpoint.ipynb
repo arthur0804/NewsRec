{
 "cells": [
  {
   "cell_type": "code",
   "execution_count": 1,
   "metadata": {},
   "outputs": [],
   "source": [
    "import numpy as np"
   ]
  },
  {
   "cell_type": "code",
   "execution_count": 2,
   "metadata": {},
   "outputs": [],
   "source": [
    "def load_embedding(filepath):\n",
    "    \n",
    "    '''\n",
    "    Load word/entity embeddings\n",
    "    Args: file path\n",
    "    Returns: word2index, embedding matrix\n",
    "    '''\n",
    "    \n",
    "    with open(filepath) as f:\n",
    "        # first line implies the dimension\n",
    "        n_word, m_dim = [int(i) for i in f.readline().strip().split()]\n",
    "        # word vector matrix\n",
    "        mat = np.zeros((n_word, m_dim))\n",
    "        # word2index\n",
    "        w2i = {}\n",
    "        i_row = 0\n",
    "        \n",
    "        for line in f:\n",
    "            ss = line.strip().split()\n",
    "            # some words have spaces (different length after splitting)\n",
    "            # use backward matching (match vectors first, then match words)\n",
    "            \n",
    "            vector = ss[-300:]\n",
    "            word_list = ss[:len(ss)-300]\n",
    "            word = \"_\".join(word_list)\n",
    "            \n",
    "            # <word, id> dictionary\n",
    "            w2i[word] = i_row\n",
    "            # word vector matrix\n",
    "            mat[i_row,:] = [float(i) for i in vector]\n",
    "            i_row += 1\n",
    "        \n",
    "        assert i_row == n_word\n",
    "        \n",
    "        # normalize each row by its L2-norm. \n",
    "        # This makes dot(v1,v2) and cos(v1,v2) equivalent for any v1, v2 (rows) in this matrix\n",
    "        for i in range(mat.shape[0]):\n",
    "            mat[i,:] /= np.linalg.norm(mat[i,:])\n",
    "        \n",
    "        # index2word\n",
    "        i2w = dict([(i, w) for w, i in w2i.items()])\n",
    "        \n",
    "        return w2i, i2w, mat"
   ]
  },
  {
   "cell_type": "code",
   "execution_count": 3,
   "metadata": {
    "scrolled": true
   },
   "outputs": [
    {
     "name": "stdout",
     "output_type": "stream",
     "text": [
      "CPU times: user 6min 26s, sys: 31.5 s, total: 6min 57s\n",
      "Wall time: 7min 27s\n"
     ]
    }
   ],
   "source": [
    "%time w2i, i2w, m = load_embedding(\"../entity_embedding/enwiki_20180420_300d.txt\")"
   ]
  },
  {
   "cell_type": "code",
   "execution_count": 33,
   "metadata": {},
   "outputs": [],
   "source": [
    "q1 = m[w2i[\"ENTITY/Donald_Trump\"], :]"
   ]
  },
  {
   "cell_type": "code",
   "execution_count": 34,
   "metadata": {},
   "outputs": [],
   "source": [
    "q2 = m[w2i[\"ENTITY/Hillary_Clinton\"], :]"
   ]
  },
  {
   "cell_type": "code",
   "execution_count": 35,
   "metadata": {},
   "outputs": [],
   "source": [
    "q3 = m[w2i[\"ENTITY/Kobe_Bryant\"], :]"
   ]
  },
  {
   "cell_type": "code",
   "execution_count": null,
   "metadata": {},
   "outputs": [],
   "source": []
  },
  {
   "cell_type": "code",
   "execution_count": null,
   "metadata": {},
   "outputs": [],
   "source": []
  },
  {
   "cell_type": "code",
   "execution_count": null,
   "metadata": {},
   "outputs": [],
   "source": []
  },
  {
   "cell_type": "code",
   "execution_count": null,
   "metadata": {},
   "outputs": [],
   "source": []
  },
  {
   "cell_type": "code",
   "execution_count": null,
   "metadata": {},
   "outputs": [],
   "source": []
  },
  {
   "cell_type": "code",
   "execution_count": null,
   "metadata": {},
   "outputs": [],
   "source": []
  },
  {
   "cell_type": "code",
   "execution_count": null,
   "metadata": {},
   "outputs": [],
   "source": [
    "import gensim.downloader as api\n",
    "model = api.load('word2vec-google-news-300')"
   ]
  },
  {
   "cell_type": "code",
   "execution_count": null,
   "metadata": {},
   "outputs": [],
   "source": [
    "# Normalizes the vectors in the word2vec class.\n",
    "model.init_sims(replace=True) "
   ]
  },
  {
   "cell_type": "code",
   "execution_count": null,
   "metadata": {},
   "outputs": [],
   "source": [
    "model['king']"
   ]
  },
  {
   "cell_type": "code",
   "execution_count": null,
   "metadata": {},
   "outputs": [],
   "source": [
    "model['queen']"
   ]
  },
  {
   "cell_type": "code",
   "execution_count": null,
   "metadata": {},
   "outputs": [],
   "source": []
  },
  {
   "cell_type": "code",
   "execution_count": null,
   "metadata": {},
   "outputs": [],
   "source": []
  },
  {
   "cell_type": "code",
   "execution_count": null,
   "metadata": {},
   "outputs": [],
   "source": []
  },
  {
   "cell_type": "code",
   "execution_count": null,
   "metadata": {},
   "outputs": [],
   "source": []
  },
  {
   "cell_type": "code",
   "execution_count": null,
   "metadata": {},
   "outputs": [],
   "source": []
  },
  {
   "cell_type": "code",
   "execution_count": null,
   "metadata": {},
   "outputs": [],
   "source": []
  },
  {
   "cell_type": "code",
   "execution_count": null,
   "metadata": {},
   "outputs": [],
   "source": []
  },
  {
   "cell_type": "code",
   "execution_count": null,
   "metadata": {},
   "outputs": [],
   "source": []
  }
 ],
 "metadata": {
  "kernelspec": {
   "display_name": "Python 3",
   "language": "python",
   "name": "python3"
  },
  "language_info": {
   "codemirror_mode": {
    "name": "ipython",
    "version": 3
   },
   "file_extension": ".py",
   "mimetype": "text/x-python",
   "name": "python",
   "nbconvert_exporter": "python",
   "pygments_lexer": "ipython3",
   "version": "3.7.4"
  }
 },
 "nbformat": 4,
 "nbformat_minor": 4
}
